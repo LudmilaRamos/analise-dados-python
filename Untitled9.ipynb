{
  "nbformat": 4,
  "nbformat_minor": 0,
  "metadata": {
    "colab": {
      "provenance": []
    },
    "kernelspec": {
      "name": "python3",
      "display_name": "Python 3"
    },
    "language_info": {
      "name": "python"
    }
  },
  "cells": [
    {
      "cell_type": "markdown",
      "source": [
        "# Extração dos Dados e Verificação"
      ],
      "metadata": {
        "id": "7sjP92bBDvax"
      }
    },
    {
      "cell_type": "code",
      "execution_count": null,
      "metadata": {
        "id": "XFf8Vr5B_8Wp"
      },
      "outputs": [],
      "source": [
        "# Importando as Bibliotecas\n",
        "\n",
        "import pandas as pd\n",
        "import seaborn as sns\n",
        "import matplotlib.pyplot as plt\n"
      ]
    },
    {
      "cell_type": "code",
      "source": [
        "# Carregar arquivo csv ( baixado do site data.gov para fins acadêmicos)\n",
        "df = pd.read_csv('/analise-py-dados.csv')"
      ],
      "metadata": {
        "id": "gQ_WTKCeBlS2"
      },
      "execution_count": null,
      "outputs": []
    },
    {
      "cell_type": "code",
      "source": [
        "from google.colab import files\n",
        "files.download('analise-py-dados.csv')\n"
      ],
      "metadata": {
        "colab": {
          "base_uri": "https://localhost:8080/",
          "height": 17
        },
        "id": "rSV2SLNYPQGF",
        "outputId": "bc72b0d9-efa9-45a8-b671-cd2656d22d06"
      },
      "execution_count": 48,
      "outputs": [
        {
          "output_type": "display_data",
          "data": {
            "text/plain": [
              "<IPython.core.display.Javascript object>"
            ],
            "application/javascript": [
              "\n",
              "    async function download(id, filename, size) {\n",
              "      if (!google.colab.kernel.accessAllowed) {\n",
              "        return;\n",
              "      }\n",
              "      const div = document.createElement('div');\n",
              "      const label = document.createElement('label');\n",
              "      label.textContent = `Downloading \"${filename}\": `;\n",
              "      div.appendChild(label);\n",
              "      const progress = document.createElement('progress');\n",
              "      progress.max = size;\n",
              "      div.appendChild(progress);\n",
              "      document.body.appendChild(div);\n",
              "\n",
              "      const buffers = [];\n",
              "      let downloaded = 0;\n",
              "\n",
              "      const channel = await google.colab.kernel.comms.open(id);\n",
              "      // Send a message to notify the kernel that we're ready.\n",
              "      channel.send({})\n",
              "\n",
              "      for await (const message of channel.messages) {\n",
              "        // Send a message to notify the kernel that we're ready.\n",
              "        channel.send({})\n",
              "        if (message.buffers) {\n",
              "          for (const buffer of message.buffers) {\n",
              "            buffers.push(buffer);\n",
              "            downloaded += buffer.byteLength;\n",
              "            progress.value = downloaded;\n",
              "          }\n",
              "        }\n",
              "      }\n",
              "      const blob = new Blob(buffers, {type: 'application/binary'});\n",
              "      const a = document.createElement('a');\n",
              "      a.href = window.URL.createObjectURL(blob);\n",
              "      a.download = filename;\n",
              "      div.appendChild(a);\n",
              "      a.click();\n",
              "      div.remove();\n",
              "    }\n",
              "  "
            ]
          },
          "metadata": {}
        },
        {
          "output_type": "display_data",
          "data": {
            "text/plain": [
              "<IPython.core.display.Javascript object>"
            ],
            "application/javascript": [
              "download(\"download_35f27117-7291-4ac4-93f4-3c334f448f1f\", \"analise-py-dados.csv\", 32829)"
            ]
          },
          "metadata": {}
        }
      ]
    },
    {
      "cell_type": "code",
      "source": [
        "# Verificar primeira linhas\n",
        "df.head()\n"
      ],
      "metadata": {
        "colab": {
          "base_uri": "https://localhost:8080/",
          "height": 481
        },
        "id": "CK689pvcAK-6",
        "outputId": "3152c3ce-f851-41d3-99dc-a930897e5fe2"
      },
      "execution_count": null,
      "outputs": [
        {
          "output_type": "execute_result",
          "data": {
            "text/plain": [
              "   NDC1  NDC2  NDC3                        Labeler Name Labeler Status  \\\n",
              "0     9  5091    25    PHARMACIA AND UPJOHN COMPANY LLC         Active   \n",
              "1     9  5093    10    PHARMACIA AND UPJOHN COMPANY LLC         Active   \n",
              "2    25   325     1  PFIZER LABORATORIES DIV PFIZER INC         Active   \n",
              "3    54   660    25      HIKMA PHARMACEUTICALS USA INC.         Active   \n",
              "4   143  9160     1      HIKMA PHARMACEUTICALS USA INC.         Active   \n",
              "\n",
              "                                            FDA Name  COD Status  \\\n",
              "0                   ELLENCE 2MG/ML SLIQ 1X25ML VL US           3   \n",
              "1                  ELLENCE 2MG/ML SLIQ 1X100ML VL US           3   \n",
              "2            ABRILADA 40MG/0.8ML LSS 1X1 PFP VAR2 US           2   \n",
              "3  LISDEXAMFETAMINE DIMESYLATE Capsules, CII, 10m...           1   \n",
              "4  Cisatracurium Besylate Intravenous Solution 20...           1   \n",
              "\n",
              "  FDA Application Number Drug Category  Drug Type  ... Market Date Unit Type  \\\n",
              "0                0050778             I          1  ...  10/05/1999        ML   \n",
              "1                0050778             I          1  ...  10/05/1999        ML   \n",
              "2                0761118             S          1  ...  11/29/2023        EA   \n",
              "3                0202827             N          1  ...  03/31/2025       CAP   \n",
              "4                0203078             N          1  ...  03/17/2025        ML   \n",
              "\n",
              "  Unit Per Package Size Therapeutic Equivalent Code   5i Indicator  \\\n",
              "0                  25.0                           AP             Y   \n",
              "1                 100.0                           AP             Y   \n",
              "2                   1.0                           NR             Y   \n",
              "3                 100.0                           AB             N   \n",
              "4                  20.0                           AP             Y   \n",
              "\n",
              "  Purchased Product Date Coverage Effective Date Drug Termination Date  \\\n",
              "0                    NaN              10/05/1999                   NaN   \n",
              "1                    NaN              10/05/1999                   NaN   \n",
              "2             06/05/2024              06/05/2024                   NaN   \n",
              "3                    NaN              03/31/2025                   NaN   \n",
              "4                    NaN              03/17/2025                   NaN   \n",
              "\n",
              "  Drug Reactivation Date  Date Reported to CMS  \n",
              "0                     NaN           04/28/2025  \n",
              "1                     NaN           04/28/2025  \n",
              "2                     NaN           04/28/2025  \n",
              "3                     NaN           04/29/2025  \n",
              "4                     NaN           04/30/2025  \n",
              "\n",
              "[5 rows x 22 columns]"
            ],
            "text/html": [
              "\n",
              "  <div id=\"df-17cd9548-8dee-4abe-8cc3-f7cd8815d017\" class=\"colab-df-container\">\n",
              "    <div>\n",
              "<style scoped>\n",
              "    .dataframe tbody tr th:only-of-type {\n",
              "        vertical-align: middle;\n",
              "    }\n",
              "\n",
              "    .dataframe tbody tr th {\n",
              "        vertical-align: top;\n",
              "    }\n",
              "\n",
              "    .dataframe thead th {\n",
              "        text-align: right;\n",
              "    }\n",
              "</style>\n",
              "<table border=\"1\" class=\"dataframe\">\n",
              "  <thead>\n",
              "    <tr style=\"text-align: right;\">\n",
              "      <th></th>\n",
              "      <th>NDC1</th>\n",
              "      <th>NDC2</th>\n",
              "      <th>NDC3</th>\n",
              "      <th>Labeler Name</th>\n",
              "      <th>Labeler Status</th>\n",
              "      <th>FDA Name</th>\n",
              "      <th>COD Status</th>\n",
              "      <th>FDA Application Number</th>\n",
              "      <th>Drug Category</th>\n",
              "      <th>Drug Type</th>\n",
              "      <th>...</th>\n",
              "      <th>Market Date</th>\n",
              "      <th>Unit Type</th>\n",
              "      <th>Unit Per Package Size</th>\n",
              "      <th>Therapeutic Equivalent Code</th>\n",
              "      <th>5i Indicator</th>\n",
              "      <th>Purchased Product Date</th>\n",
              "      <th>Coverage Effective Date</th>\n",
              "      <th>Drug Termination Date</th>\n",
              "      <th>Drug Reactivation Date</th>\n",
              "      <th>Date Reported to CMS</th>\n",
              "    </tr>\n",
              "  </thead>\n",
              "  <tbody>\n",
              "    <tr>\n",
              "      <th>0</th>\n",
              "      <td>9</td>\n",
              "      <td>5091</td>\n",
              "      <td>25</td>\n",
              "      <td>PHARMACIA AND UPJOHN COMPANY LLC</td>\n",
              "      <td>Active</td>\n",
              "      <td>ELLENCE 2MG/ML SLIQ 1X25ML VL US</td>\n",
              "      <td>3</td>\n",
              "      <td>0050778</td>\n",
              "      <td>I</td>\n",
              "      <td>1</td>\n",
              "      <td>...</td>\n",
              "      <td>10/05/1999</td>\n",
              "      <td>ML</td>\n",
              "      <td>25.0</td>\n",
              "      <td>AP</td>\n",
              "      <td>Y</td>\n",
              "      <td>NaN</td>\n",
              "      <td>10/05/1999</td>\n",
              "      <td>NaN</td>\n",
              "      <td>NaN</td>\n",
              "      <td>04/28/2025</td>\n",
              "    </tr>\n",
              "    <tr>\n",
              "      <th>1</th>\n",
              "      <td>9</td>\n",
              "      <td>5093</td>\n",
              "      <td>10</td>\n",
              "      <td>PHARMACIA AND UPJOHN COMPANY LLC</td>\n",
              "      <td>Active</td>\n",
              "      <td>ELLENCE 2MG/ML SLIQ 1X100ML VL US</td>\n",
              "      <td>3</td>\n",
              "      <td>0050778</td>\n",
              "      <td>I</td>\n",
              "      <td>1</td>\n",
              "      <td>...</td>\n",
              "      <td>10/05/1999</td>\n",
              "      <td>ML</td>\n",
              "      <td>100.0</td>\n",
              "      <td>AP</td>\n",
              "      <td>Y</td>\n",
              "      <td>NaN</td>\n",
              "      <td>10/05/1999</td>\n",
              "      <td>NaN</td>\n",
              "      <td>NaN</td>\n",
              "      <td>04/28/2025</td>\n",
              "    </tr>\n",
              "    <tr>\n",
              "      <th>2</th>\n",
              "      <td>25</td>\n",
              "      <td>325</td>\n",
              "      <td>1</td>\n",
              "      <td>PFIZER LABORATORIES DIV PFIZER INC</td>\n",
              "      <td>Active</td>\n",
              "      <td>ABRILADA 40MG/0.8ML LSS 1X1 PFP VAR2 US</td>\n",
              "      <td>2</td>\n",
              "      <td>0761118</td>\n",
              "      <td>S</td>\n",
              "      <td>1</td>\n",
              "      <td>...</td>\n",
              "      <td>11/29/2023</td>\n",
              "      <td>EA</td>\n",
              "      <td>1.0</td>\n",
              "      <td>NR</td>\n",
              "      <td>Y</td>\n",
              "      <td>06/05/2024</td>\n",
              "      <td>06/05/2024</td>\n",
              "      <td>NaN</td>\n",
              "      <td>NaN</td>\n",
              "      <td>04/28/2025</td>\n",
              "    </tr>\n",
              "    <tr>\n",
              "      <th>3</th>\n",
              "      <td>54</td>\n",
              "      <td>660</td>\n",
              "      <td>25</td>\n",
              "      <td>HIKMA PHARMACEUTICALS USA INC.</td>\n",
              "      <td>Active</td>\n",
              "      <td>LISDEXAMFETAMINE DIMESYLATE Capsules, CII, 10m...</td>\n",
              "      <td>1</td>\n",
              "      <td>0202827</td>\n",
              "      <td>N</td>\n",
              "      <td>1</td>\n",
              "      <td>...</td>\n",
              "      <td>03/31/2025</td>\n",
              "      <td>CAP</td>\n",
              "      <td>100.0</td>\n",
              "      <td>AB</td>\n",
              "      <td>N</td>\n",
              "      <td>NaN</td>\n",
              "      <td>03/31/2025</td>\n",
              "      <td>NaN</td>\n",
              "      <td>NaN</td>\n",
              "      <td>04/29/2025</td>\n",
              "    </tr>\n",
              "    <tr>\n",
              "      <th>4</th>\n",
              "      <td>143</td>\n",
              "      <td>9160</td>\n",
              "      <td>1</td>\n",
              "      <td>HIKMA PHARMACEUTICALS USA INC.</td>\n",
              "      <td>Active</td>\n",
              "      <td>Cisatracurium Besylate Intravenous Solution 20...</td>\n",
              "      <td>1</td>\n",
              "      <td>0203078</td>\n",
              "      <td>N</td>\n",
              "      <td>1</td>\n",
              "      <td>...</td>\n",
              "      <td>03/17/2025</td>\n",
              "      <td>ML</td>\n",
              "      <td>20.0</td>\n",
              "      <td>AP</td>\n",
              "      <td>Y</td>\n",
              "      <td>NaN</td>\n",
              "      <td>03/17/2025</td>\n",
              "      <td>NaN</td>\n",
              "      <td>NaN</td>\n",
              "      <td>04/30/2025</td>\n",
              "    </tr>\n",
              "  </tbody>\n",
              "</table>\n",
              "<p>5 rows × 22 columns</p>\n",
              "</div>\n",
              "    <div class=\"colab-df-buttons\">\n",
              "\n",
              "  <div class=\"colab-df-container\">\n",
              "    <button class=\"colab-df-convert\" onclick=\"convertToInteractive('df-17cd9548-8dee-4abe-8cc3-f7cd8815d017')\"\n",
              "            title=\"Convert this dataframe to an interactive table.\"\n",
              "            style=\"display:none;\">\n",
              "\n",
              "  <svg xmlns=\"http://www.w3.org/2000/svg\" height=\"24px\" viewBox=\"0 -960 960 960\">\n",
              "    <path d=\"M120-120v-720h720v720H120Zm60-500h600v-160H180v160Zm220 220h160v-160H400v160Zm0 220h160v-160H400v160ZM180-400h160v-160H180v160Zm440 0h160v-160H620v160ZM180-180h160v-160H180v160Zm440 0h160v-160H620v160Z\"/>\n",
              "  </svg>\n",
              "    </button>\n",
              "\n",
              "  <style>\n",
              "    .colab-df-container {\n",
              "      display:flex;\n",
              "      gap: 12px;\n",
              "    }\n",
              "\n",
              "    .colab-df-convert {\n",
              "      background-color: #E8F0FE;\n",
              "      border: none;\n",
              "      border-radius: 50%;\n",
              "      cursor: pointer;\n",
              "      display: none;\n",
              "      fill: #1967D2;\n",
              "      height: 32px;\n",
              "      padding: 0 0 0 0;\n",
              "      width: 32px;\n",
              "    }\n",
              "\n",
              "    .colab-df-convert:hover {\n",
              "      background-color: #E2EBFA;\n",
              "      box-shadow: 0px 1px 2px rgba(60, 64, 67, 0.3), 0px 1px 3px 1px rgba(60, 64, 67, 0.15);\n",
              "      fill: #174EA6;\n",
              "    }\n",
              "\n",
              "    .colab-df-buttons div {\n",
              "      margin-bottom: 4px;\n",
              "    }\n",
              "\n",
              "    [theme=dark] .colab-df-convert {\n",
              "      background-color: #3B4455;\n",
              "      fill: #D2E3FC;\n",
              "    }\n",
              "\n",
              "    [theme=dark] .colab-df-convert:hover {\n",
              "      background-color: #434B5C;\n",
              "      box-shadow: 0px 1px 3px 1px rgba(0, 0, 0, 0.15);\n",
              "      filter: drop-shadow(0px 1px 2px rgba(0, 0, 0, 0.3));\n",
              "      fill: #FFFFFF;\n",
              "    }\n",
              "  </style>\n",
              "\n",
              "    <script>\n",
              "      const buttonEl =\n",
              "        document.querySelector('#df-17cd9548-8dee-4abe-8cc3-f7cd8815d017 button.colab-df-convert');\n",
              "      buttonEl.style.display =\n",
              "        google.colab.kernel.accessAllowed ? 'block' : 'none';\n",
              "\n",
              "      async function convertToInteractive(key) {\n",
              "        const element = document.querySelector('#df-17cd9548-8dee-4abe-8cc3-f7cd8815d017');\n",
              "        const dataTable =\n",
              "          await google.colab.kernel.invokeFunction('convertToInteractive',\n",
              "                                                    [key], {});\n",
              "        if (!dataTable) return;\n",
              "\n",
              "        const docLinkHtml = 'Like what you see? Visit the ' +\n",
              "          '<a target=\"_blank\" href=https://colab.research.google.com/notebooks/data_table.ipynb>data table notebook</a>'\n",
              "          + ' to learn more about interactive tables.';\n",
              "        element.innerHTML = '';\n",
              "        dataTable['output_type'] = 'display_data';\n",
              "        await google.colab.output.renderOutput(dataTable, element);\n",
              "        const docLink = document.createElement('div');\n",
              "        docLink.innerHTML = docLinkHtml;\n",
              "        element.appendChild(docLink);\n",
              "      }\n",
              "    </script>\n",
              "  </div>\n",
              "\n",
              "\n",
              "    <div id=\"df-b0ab20ac-2b17-4750-aebf-04f154e56c41\">\n",
              "      <button class=\"colab-df-quickchart\" onclick=\"quickchart('df-b0ab20ac-2b17-4750-aebf-04f154e56c41')\"\n",
              "                title=\"Suggest charts\"\n",
              "                style=\"display:none;\">\n",
              "\n",
              "<svg xmlns=\"http://www.w3.org/2000/svg\" height=\"24px\"viewBox=\"0 0 24 24\"\n",
              "     width=\"24px\">\n",
              "    <g>\n",
              "        <path d=\"M19 3H5c-1.1 0-2 .9-2 2v14c0 1.1.9 2 2 2h14c1.1 0 2-.9 2-2V5c0-1.1-.9-2-2-2zM9 17H7v-7h2v7zm4 0h-2V7h2v10zm4 0h-2v-4h2v4z\"/>\n",
              "    </g>\n",
              "</svg>\n",
              "      </button>\n",
              "\n",
              "<style>\n",
              "  .colab-df-quickchart {\n",
              "      --bg-color: #E8F0FE;\n",
              "      --fill-color: #1967D2;\n",
              "      --hover-bg-color: #E2EBFA;\n",
              "      --hover-fill-color: #174EA6;\n",
              "      --disabled-fill-color: #AAA;\n",
              "      --disabled-bg-color: #DDD;\n",
              "  }\n",
              "\n",
              "  [theme=dark] .colab-df-quickchart {\n",
              "      --bg-color: #3B4455;\n",
              "      --fill-color: #D2E3FC;\n",
              "      --hover-bg-color: #434B5C;\n",
              "      --hover-fill-color: #FFFFFF;\n",
              "      --disabled-bg-color: #3B4455;\n",
              "      --disabled-fill-color: #666;\n",
              "  }\n",
              "\n",
              "  .colab-df-quickchart {\n",
              "    background-color: var(--bg-color);\n",
              "    border: none;\n",
              "    border-radius: 50%;\n",
              "    cursor: pointer;\n",
              "    display: none;\n",
              "    fill: var(--fill-color);\n",
              "    height: 32px;\n",
              "    padding: 0;\n",
              "    width: 32px;\n",
              "  }\n",
              "\n",
              "  .colab-df-quickchart:hover {\n",
              "    background-color: var(--hover-bg-color);\n",
              "    box-shadow: 0 1px 2px rgba(60, 64, 67, 0.3), 0 1px 3px 1px rgba(60, 64, 67, 0.15);\n",
              "    fill: var(--button-hover-fill-color);\n",
              "  }\n",
              "\n",
              "  .colab-df-quickchart-complete:disabled,\n",
              "  .colab-df-quickchart-complete:disabled:hover {\n",
              "    background-color: var(--disabled-bg-color);\n",
              "    fill: var(--disabled-fill-color);\n",
              "    box-shadow: none;\n",
              "  }\n",
              "\n",
              "  .colab-df-spinner {\n",
              "    border: 2px solid var(--fill-color);\n",
              "    border-color: transparent;\n",
              "    border-bottom-color: var(--fill-color);\n",
              "    animation:\n",
              "      spin 1s steps(1) infinite;\n",
              "  }\n",
              "\n",
              "  @keyframes spin {\n",
              "    0% {\n",
              "      border-color: transparent;\n",
              "      border-bottom-color: var(--fill-color);\n",
              "      border-left-color: var(--fill-color);\n",
              "    }\n",
              "    20% {\n",
              "      border-color: transparent;\n",
              "      border-left-color: var(--fill-color);\n",
              "      border-top-color: var(--fill-color);\n",
              "    }\n",
              "    30% {\n",
              "      border-color: transparent;\n",
              "      border-left-color: var(--fill-color);\n",
              "      border-top-color: var(--fill-color);\n",
              "      border-right-color: var(--fill-color);\n",
              "    }\n",
              "    40% {\n",
              "      border-color: transparent;\n",
              "      border-right-color: var(--fill-color);\n",
              "      border-top-color: var(--fill-color);\n",
              "    }\n",
              "    60% {\n",
              "      border-color: transparent;\n",
              "      border-right-color: var(--fill-color);\n",
              "    }\n",
              "    80% {\n",
              "      border-color: transparent;\n",
              "      border-right-color: var(--fill-color);\n",
              "      border-bottom-color: var(--fill-color);\n",
              "    }\n",
              "    90% {\n",
              "      border-color: transparent;\n",
              "      border-bottom-color: var(--fill-color);\n",
              "    }\n",
              "  }\n",
              "</style>\n",
              "\n",
              "      <script>\n",
              "        async function quickchart(key) {\n",
              "          const quickchartButtonEl =\n",
              "            document.querySelector('#' + key + ' button');\n",
              "          quickchartButtonEl.disabled = true;  // To prevent multiple clicks.\n",
              "          quickchartButtonEl.classList.add('colab-df-spinner');\n",
              "          try {\n",
              "            const charts = await google.colab.kernel.invokeFunction(\n",
              "                'suggestCharts', [key], {});\n",
              "          } catch (error) {\n",
              "            console.error('Error during call to suggestCharts:', error);\n",
              "          }\n",
              "          quickchartButtonEl.classList.remove('colab-df-spinner');\n",
              "          quickchartButtonEl.classList.add('colab-df-quickchart-complete');\n",
              "        }\n",
              "        (() => {\n",
              "          let quickchartButtonEl =\n",
              "            document.querySelector('#df-b0ab20ac-2b17-4750-aebf-04f154e56c41 button');\n",
              "          quickchartButtonEl.style.display =\n",
              "            google.colab.kernel.accessAllowed ? 'block' : 'none';\n",
              "        })();\n",
              "      </script>\n",
              "    </div>\n",
              "\n",
              "    </div>\n",
              "  </div>\n"
            ],
            "application/vnd.google.colaboratory.intrinsic+json": {
              "type": "dataframe",
              "variable_name": "df"
            }
          },
          "metadata": {},
          "execution_count": 24
        }
      ]
    },
    {
      "cell_type": "code",
      "source": [
        "#Verificar a quantidade de linhas e colunas\n",
        "print(df.shape)\n"
      ],
      "metadata": {
        "colab": {
          "base_uri": "https://localhost:8080/"
        },
        "id": "FgNtzeekCQCH",
        "outputId": "708eee92-cf14-4cd7-a277-2f60bd32976b"
      },
      "execution_count": null,
      "outputs": [
        {
          "output_type": "stream",
          "name": "stdout",
          "text": [
            "(199, 22)\n"
          ]
        }
      ]
    },
    {
      "cell_type": "markdown",
      "source": [
        "#Limpeza de Dados"
      ],
      "metadata": {
        "id": "cywmAqqyDkGi"
      }
    },
    {
      "cell_type": "code",
      "source": [
        "# Verificar valores ausentes\n",
        "print(df.isnull().sum())\n"
      ],
      "metadata": {
        "colab": {
          "base_uri": "https://localhost:8080/"
        },
        "id": "Z9vSQNS_DEjr",
        "outputId": "2b434648-133e-41ac-b9f6-7943cdef7314"
      },
      "execution_count": null,
      "outputs": [
        {
          "output_type": "stream",
          "name": "stdout",
          "text": [
            "NDC1                              0\n",
            "NDC2                              0\n",
            "NDC3                              0\n",
            "Labeler Name                      0\n",
            "Labeler Status                    0\n",
            "FDA Name                          0\n",
            "COD Status                        0\n",
            "FDA Application Number            3\n",
            "Drug Category                     0\n",
            "Drug Type                         0\n",
            "Line Extension                    0\n",
            "FDA Approval Date                 0\n",
            "Market Date                       0\n",
            "Unit Type                         0\n",
            "Unit Per Package Size             0\n",
            "Therapeutic Equivalent Code       0\n",
            "5i Indicator                      0\n",
            "Purchased Product Date          148\n",
            "Coverage Effective Date           0\n",
            "Drug Termination Date           197\n",
            "Drug Reactivation Date          199\n",
            "Date Reported to CMS              0\n",
            "dtype: int64\n"
          ]
        }
      ]
    },
    {
      "cell_type": "code",
      "source": [
        "# Verificar duplicatas\n",
        "print(df.duplicated().sum())\n",
        "\n",
        "# Remover duplicatas, se houver\n",
        "df = df.drop_duplicates()\n",
        "\n"
      ],
      "metadata": {
        "colab": {
          "base_uri": "https://localhost:8080/"
        },
        "id": "B3UGN3LZDKBg",
        "outputId": "41a243cd-71b8-4685-91f9-a40449d619f6"
      },
      "execution_count": null,
      "outputs": [
        {
          "output_type": "stream",
          "name": "stdout",
          "text": [
            "0\n"
          ]
        }
      ]
    },
    {
      "cell_type": "code",
      "source": [
        "# Verificar os tipos de dados\n",
        "print(df.dtypes)\n",
        "\n",
        "# Converter para tipo adequado, se necessário\n",
        "df['Market Date'] = pd.to_datetime(df['Market Date'], errors='coerce')\n"
      ],
      "metadata": {
        "colab": {
          "base_uri": "https://localhost:8080/"
        },
        "id": "O3D0DZciDS4P",
        "outputId": "d5697d81-c8ea-40a4-97dc-74b4406920dc"
      },
      "execution_count": null,
      "outputs": [
        {
          "output_type": "stream",
          "name": "stdout",
          "text": [
            "NDC1                              int64\n",
            "NDC2                              int64\n",
            "NDC3                              int64\n",
            "Labeler Name                     object\n",
            "Labeler Status                   object\n",
            "FDA Name                         object\n",
            "COD Status                        int64\n",
            "FDA Application Number           object\n",
            "Drug Category                    object\n",
            "Drug Type                         int64\n",
            "Line Extension                   object\n",
            "FDA Approval Date                object\n",
            "Market Date                      object\n",
            "Unit Type                        object\n",
            "Unit Per Package Size           float64\n",
            "Therapeutic Equivalent Code      object\n",
            "5i Indicator                     object\n",
            "Purchased Product Date           object\n",
            "Coverage Effective Date          object\n",
            "Drug Termination Date            object\n",
            "Drug Reactivation Date          float64\n",
            "Date Reported to CMS             object\n",
            "dtype: object\n"
          ]
        }
      ]
    },
    {
      "cell_type": "code",
      "source": [
        "# Estatísticas descritivas para identificar outliers\n",
        "print(df.describe())\n"
      ],
      "metadata": {
        "colab": {
          "base_uri": "https://localhost:8080/"
        },
        "id": "y4P936U0DUaq",
        "outputId": "55bcce7c-1b24-4d79-ef5e-2546dac8abba"
      },
      "execution_count": null,
      "outputs": [
        {
          "output_type": "stream",
          "name": "stdout",
          "text": [
            "               NDC1         NDC2        NDC3  COD Status   Drug Type  \\\n",
            "count    199.000000   199.000000  199.000000  199.000000  199.000000   \n",
            "mean   54223.336683   943.718593   13.994975    2.170854    1.100503   \n",
            "min        9.000000     9.000000    0.000000    1.000000    1.000000   \n",
            "25%    42806.000000   140.500000    1.000000    1.000000    1.000000   \n",
            "50%    65219.000000   325.000000   10.000000    1.000000    1.000000   \n",
            "75%    70700.000000   668.500000   16.000000    2.000000    1.000000   \n",
            "max    83980.000000  9710.000000   99.000000   12.000000    2.000000   \n",
            "std    24988.092086  2077.015602   19.532541    2.663057    0.301427   \n",
            "\n",
            "                         Market Date  Unit Per Package Size  \\\n",
            "count                            199             199.000000   \n",
            "mean   2022-04-17 23:45:31.658291456             193.337688   \n",
            "min              1990-09-30 00:00:00               0.500000   \n",
            "25%              2023-08-02 00:00:00               5.000000   \n",
            "50%              2025-02-06 00:00:00              30.000000   \n",
            "75%              2025-03-17 00:00:00             100.000000   \n",
            "max              2025-04-24 00:00:00            3000.000000   \n",
            "std                              NaN             474.595805   \n",
            "\n",
            "       Drug Reactivation Date   \n",
            "count                      0.0  \n",
            "mean                       NaN  \n",
            "min                        NaN  \n",
            "25%                        NaN  \n",
            "50%                        NaN  \n",
            "75%                        NaN  \n",
            "max                        NaN  \n",
            "std                        NaN  \n"
          ]
        }
      ]
    },
    {
      "cell_type": "code",
      "source": [
        "df = df.drop(columns=['Labeler Status'])\n",
        "\n"
      ],
      "metadata": {
        "id": "pw8EKhnuE7D3"
      },
      "execution_count": null,
      "outputs": []
    },
    {
      "cell_type": "code",
      "source": [
        "# Verificar quantos valores ausentes existem em cada coluna\n",
        "print(df.isnull().sum())\n",
        "\n",
        "# E também a porcentagem de valores ausentes por coluna (útil para decisão)\n",
        "print((df.isnull().sum() / len(df)) * 100)\n"
      ],
      "metadata": {
        "colab": {
          "base_uri": "https://localhost:8080/"
        },
        "id": "OrqLC1jlE7rL",
        "outputId": "4177b1df-0a5b-4cf8-f53b-e3c3a39068d1"
      },
      "execution_count": null,
      "outputs": [
        {
          "output_type": "stream",
          "name": "stdout",
          "text": [
            "NDC1                              0\n",
            "NDC2                              0\n",
            "NDC3                              0\n",
            "Labeler Name                      0\n",
            "FDA Name                          0\n",
            "COD Status                        0\n",
            "FDA Application Number            3\n",
            "Drug Category                     0\n",
            "Drug Type                         0\n",
            "Line Extension                    0\n",
            "FDA Approval Date                 0\n",
            "Market Date                       0\n",
            "Unit Type                         0\n",
            "Unit Per Package Size             0\n",
            "Therapeutic Equivalent Code       0\n",
            "5i Indicator                      0\n",
            "Purchased Product Date          148\n",
            "Coverage Effective Date           0\n",
            "Drug Termination Date           197\n",
            "Drug Reactivation Date          199\n",
            "Date Reported to CMS              0\n",
            "dtype: int64\n",
            "NDC1                              0.000000\n",
            "NDC2                              0.000000\n",
            "NDC3                              0.000000\n",
            "Labeler Name                      0.000000\n",
            "FDA Name                          0.000000\n",
            "COD Status                        0.000000\n",
            "FDA Application Number            1.507538\n",
            "Drug Category                     0.000000\n",
            "Drug Type                         0.000000\n",
            "Line Extension                    0.000000\n",
            "FDA Approval Date                 0.000000\n",
            "Market Date                       0.000000\n",
            "Unit Type                         0.000000\n",
            "Unit Per Package Size             0.000000\n",
            "Therapeutic Equivalent Code       0.000000\n",
            "5i Indicator                      0.000000\n",
            "Purchased Product Date           74.371859\n",
            "Coverage Effective Date           0.000000\n",
            "Drug Termination Date            98.994975\n",
            "Drug Reactivation Date          100.000000\n",
            "Date Reported to CMS              0.000000\n",
            "dtype: float64\n"
          ]
        }
      ]
    },
    {
      "cell_type": "code",
      "source": [
        "# Remover colunas que podem ou não existir, sem erro\n",
        "df = df.drop(columns=['Labeler Status', 'Drug Reactivation Date', 'Drug Termination Date'], errors='ignore')\n",
        "\n",
        "# Preencher ausentes em 'FDA Application Number' com 'Desconhecido'\n",
        "df['FDA Application Number'] = df['FDA Application Number'].fillna('Desconhecido')\n",
        "\n",
        "# Preencher ausentes em 'Purchased Product Date' com 'Desconhecido'\n",
        "df['Purchased Product Date'] = df['Purchased Product Date'].fillna('Desconhecido')\n",
        "\n",
        "\n"
      ],
      "metadata": {
        "id": "24kwgPqaElJv"
      },
      "execution_count": null,
      "outputs": []
    },
    {
      "cell_type": "markdown",
      "source": [
        "# Análise Explorátoria"
      ],
      "metadata": {
        "id": "iJHv89_sHY_s"
      }
    },
    {
      "cell_type": "markdown",
      "source": [
        "####Análise de Status de Produto.\n",
        "#####Nesta análise, investigamos a distribuição dos produtos com base no COD Status, que indica se o produto está ativo, inativo, ou em outro status relevante.\n",
        "\n",
        "**Gráfico 1: Distribuição de Status de Produto**\n",
        "\n",
        "Mostra como os produtos se distribuem entre os diferentes status. Isso nos permite entender a prevalência de produtos ativos ou inativos.\n",
        "\n",
        "**Gráfico 2: Status de Produto por Categoria de Droga**\n",
        "\n",
        "Aqui, analisamos como o status varia conforme a Categoria de Droga, destacando se certos tipos de medicamentos tendem a ter mais produtos ativos ou inativos."
      ],
      "metadata": {
        "id": "CIskVaToHpaV"
      }
    },
    {
      "cell_type": "code",
      "source": [
        "# Gráfico de barras para status de produto\n",
        "sns.countplot(x='COD Status', data=df)\n",
        "plt.title('Distribuição de Status de Produto')\n",
        "plt.show()\n",
        "\n",
        "# Status de produto por categoria de droga\n",
        "sns.countplot(x='Drug Category', hue='COD Status', data=df)\n",
        "plt.title('Status de Produto por Categoria de Droga')\n",
        "plt.xticks(rotation=90)\n",
        "plt.show()\n"
      ],
      "metadata": {
        "colab": {
          "base_uri": "https://localhost:8080/",
          "height": 923
        },
        "id": "1DmzhcqaHer8",
        "outputId": "1bb6eab0-3e5c-487a-ce3d-5ade51d8b5e2"
      },
      "execution_count": null,
      "outputs": [
        {
          "output_type": "display_data",
          "data": {
            "text/plain": [
              "<Figure size 640x480 with 1 Axes>"
            ],
            "image/png": "[encoded data removed]"
          },
          "metadata": {}
        },
        {
          "output_type": "display_data",
          "data": {
            "text/plain": [
              "<Figure size 640x480 with 1 Axes>"
            ],
            "image/png": "[encoded data removed]"
          },
          "metadata": {}
        }
      ]
    },
    {
      "cell_type": "markdown",
      "source": [
        "#### **Análise Temporal**\n",
        "#####**Distribuição de Aprovações de FDA (FDA Approval Date)**\n",
        "A distribuição de aprovações de FDA ao longo do tempo foi analisada para identificar tendências de lançamentos e picos de aprovações. Utilizando um gráfico de linha, conseguimos visualizar como o número de aprovações variou ao longo dos anos.\n",
        "\n",
        "**Data de Mercado (Market Date)**\n",
        "A análise da Data de Mercado permitiu identificar se há padrões sazonais ou tendências de lançamento de produtos. Um gráfico de linha foi utilizado para examinar a quantidade de produtos no mercado ao longo dos anos e verificar possíveis variações sazonais."
      ],
      "metadata": {
        "id": "QPcCnq2kJGHS"
      }
    },
    {
      "cell_type": "code",
      "source": [
        "# Converter as colunas de data para formato datetime\n",
        "df['FDA Approval Date'] = pd.to_datetime(df['FDA Approval Date'], errors='coerce')\n",
        "df['Market Date'] = pd.to_datetime(df['Market Date'], errors='coerce')\n",
        "\n",
        "# Plotando a distribuição de aprovações do FDA ao longo do tempo\n",
        "df.groupby(df['FDA Approval Date'].dt.year).size().plot(kind='line')\n",
        "plt.title('Aprovações de FDA ao Longo do Tempo')\n",
        "plt.xlabel('Ano')\n",
        "plt.ylabel('Número de Aprovações')\n",
        "plt.show()\n",
        "\n",
        "# Análise de Produtos por Ano de Mercado\n",
        "df.groupby(df['Market Date'].dt.year).size().plot(kind='line')\n",
        "plt.title('Distribuição de Produtos por Ano de Mercado')\n",
        "plt.xlabel('Ano')\n",
        "plt.ylabel('Número de Produtos')\n",
        "plt.show()\n"
      ],
      "metadata": {
        "colab": {
          "base_uri": "https://localhost:8080/",
          "height": 927
        },
        "id": "dHusTZl7JFrg",
        "outputId": "6431bcfb-1ef3-4379-fde6-d35788288fac"
      },
      "execution_count": null,
      "outputs": [
        {
          "output_type": "display_data",
          "data": {
            "text/plain": [
              "<Figure size 640x480 with 1 Axes>"
            ],
            "image/png": "[encoded data removed]"
          },
          "metadata": {}
        },
        {
          "output_type": "display_data",
          "data": {
            "text/plain": [
              "<Figure size 640x480 with 1 Axes>"
            ],
            "image/png": "[encoded data removed]"
          },
          "metadata": {}
        }
      ]
    },
    {
      "cell_type": "markdown",
      "source": [],
      "metadata": {
        "id": "vP7EboUdKlXw"
      }
    },
    {
      "cell_type": "markdown",
      "source": [
        "###Análise de Tipos de Embalagem"
      ],
      "metadata": {
        "id": "7XWY5ynQNpOe"
      }
    },
    {
      "cell_type": "code",
      "source": [
        "# Gráfico de barras para o tipo de embalagem\n",
        "sns.countplot(x='Unit Type', data=df)\n",
        "plt.title('Distribuição de Tipos de Embalagem')\n",
        "plt.xticks(rotation=90)\n",
        "plt.show()\n"
      ],
      "metadata": {
        "colab": {
          "base_uri": "https://localhost:8080/",
          "height": 486
        },
        "id": "da6TVTFKKmWO",
        "outputId": "2f3685ce-def0-43a7-b450-cfb430c9ccbb"
      },
      "execution_count": null,
      "outputs": [
        {
          "output_type": "display_data",
          "data": {
            "text/plain": [
              "<Figure size 640x480 with 1 Axes>"
            ],
            "image/png": "[encoded data removed]"
          },
          "metadata": {}
        }
      ]
    },
    {
      "cell_type": "markdown",
      "source": [
        "###Análise de Status de Produto\n",
        "**Gráfico 1 Status de Produto:** (COD Status, FDA Name): Analisar a proporção de produtos com status ativo versus inativo.\n",
        "\n",
        "**Gráfico 2 Relação entre Status de Produto e Categoria de Droga:** Como diferentes categorias de droga podem ter diferentes status de FDA."
      ],
      "metadata": {
        "id": "qn-D8jwNONix"
      }
    },
    {
      "cell_type": "code",
      "source": [
        "# Gráfico de barras para status de produto\n",
        "sns.countplot(x='COD Status', data=df)\n",
        "plt.title('Distribuição de Status de Produto')\n",
        "plt.show()\n",
        "\n",
        "# Status de produto por categoria de droga\n",
        "sns.countplot(x='Drug Category', hue='COD Status', data=df)\n",
        "plt.title('Status de Produto por Categoria de Droga')\n",
        "plt.xticks(rotation=90)\n",
        "plt.show()\n"
      ],
      "metadata": {
        "colab": {
          "base_uri": "https://localhost:8080/",
          "height": 923
        },
        "id": "OvhEQ12QN8hU",
        "outputId": "115e52a6-3c57-47dc-fbed-bc70e9609d20"
      },
      "execution_count": null,
      "outputs": [
        {
          "output_type": "display_data",
          "data": {
            "text/plain": [
              "<Figure size 640x480 with 1 Axes>"
            ],
            "image/png": "[encoded data removed]"
          },
          "metadata": {}
        },
        {
          "output_type": "display_data",
          "data": {
            "text/plain": [
              "<Figure size 640x480 with 1 Axes>"
            ],
            "image/png": "[encoded data removed]"
          },
          "metadata": {}
        }
      ]
    },
    {
      "cell_type": "code",
      "source": [
        "# Verificar dados faltantes em cada coluna\n",
        "missing_data = df.isnull().sum()\n",
        "print(missing_data[missing_data > 0])  # Exibir colunas com dados ausentes\n",
        "\n",
        "# Proporção de dados ausentes\n",
        "missing_proportion = (df.isnull().mean() * 100).sort_values(ascending=False)\n",
        "print(missing_proportion)\n"
      ],
      "metadata": {
        "colab": {
          "base_uri": "https://localhost:8080/"
        },
        "id": "5YuGm7XaOFYY",
        "outputId": "5f695983-7071-4bb0-fbef-1205a9ad1eb6"
      },
      "execution_count": null,
      "outputs": [
        {
          "output_type": "stream",
          "name": "stdout",
          "text": [
            "Drug Reactivation Date     199\n",
            "dtype: int64\n",
            "Drug Reactivation Date          100.0\n",
            "NDC1                              0.0\n",
            "NDC3                              0.0\n",
            "NDC2                              0.0\n",
            "Labeler Name                      0.0\n",
            "FDA Name                          0.0\n",
            "FDA Application Number            0.0\n",
            "COD Status                        0.0\n",
            "Drug Type                         0.0\n",
            "Line Extension                    0.0\n",
            "FDA Approval Date                 0.0\n",
            "Drug Category                     0.0\n",
            "Market Date                       0.0\n",
            "Unit Type                         0.0\n",
            "Therapeutic Equivalent Code       0.0\n",
            "Unit Per Package Size             0.0\n",
            "5i Indicator                      0.0\n",
            "Purchased Product Date            0.0\n",
            "Coverage Effective Date           0.0\n",
            "Date Reported to CMS              0.0\n",
            "dtype: float64\n"
          ]
        }
      ]
    }
  ]
}